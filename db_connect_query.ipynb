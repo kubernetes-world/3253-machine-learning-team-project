{
  "nbformat": 4,
  "nbformat_minor": 0,
  "metadata": {
    "colab": {
      "provenance": [],
      "authorship_tag": "ABX9TyOcw2hvG8BYwXli1TMg7cI0",
      "include_colab_link": true
    },
    "kernelspec": {
      "name": "python3",
      "display_name": "Python 3"
    },
    "language_info": {
      "name": "python"
    },
    "widgets": {
      "application/vnd.jupyter.widget-state+json": {
        "37a8e7f238634ede9abe99d448204d69": {
          "model_module": "@jupyter-widgets/controls",
          "model_name": "FloatProgressModel",
          "model_module_version": "1.5.0",
          "state": {
            "_dom_classes": [],
            "_model_module": "@jupyter-widgets/controls",
            "_model_module_version": "1.5.0",
            "_model_name": "FloatProgressModel",
            "_view_count": null,
            "_view_module": "@jupyter-widgets/controls",
            "_view_module_version": "1.5.0",
            "_view_name": "ProgressView",
            "bar_style": "",
            "description": "",
            "description_tooltip": null,
            "layout": "IPY_MODEL_8d8848f41fc14d76aca2b2b4cf8f50cf",
            "max": 100,
            "min": 0,
            "orientation": "horizontal",
            "style": "IPY_MODEL_d1c5f86f031c4042a091dc8fc480c861",
            "value": 100
          }
        },
        "8d8848f41fc14d76aca2b2b4cf8f50cf": {
          "model_module": "@jupyter-widgets/base",
          "model_name": "LayoutModel",
          "model_module_version": "1.2.0",
          "state": {
            "_model_module": "@jupyter-widgets/base",
            "_model_module_version": "1.2.0",
            "_model_name": "LayoutModel",
            "_view_count": null,
            "_view_module": "@jupyter-widgets/base",
            "_view_module_version": "1.2.0",
            "_view_name": "LayoutView",
            "align_content": null,
            "align_items": null,
            "align_self": null,
            "border": null,
            "bottom": null,
            "display": null,
            "flex": null,
            "flex_flow": null,
            "grid_area": null,
            "grid_auto_columns": null,
            "grid_auto_flow": null,
            "grid_auto_rows": null,
            "grid_column": null,
            "grid_gap": null,
            "grid_row": null,
            "grid_template_areas": null,
            "grid_template_columns": null,
            "grid_template_rows": null,
            "height": null,
            "justify_content": null,
            "justify_items": null,
            "left": null,
            "margin": null,
            "max_height": null,
            "max_width": null,
            "min_height": null,
            "min_width": null,
            "object_fit": null,
            "object_position": null,
            "order": null,
            "overflow": null,
            "overflow_x": null,
            "overflow_y": null,
            "padding": null,
            "right": null,
            "top": null,
            "visibility": null,
            "width": "auto"
          }
        },
        "d1c5f86f031c4042a091dc8fc480c861": {
          "model_module": "@jupyter-widgets/controls",
          "model_name": "ProgressStyleModel",
          "model_module_version": "1.5.0",
          "state": {
            "_model_module": "@jupyter-widgets/controls",
            "_model_module_version": "1.5.0",
            "_model_name": "ProgressStyleModel",
            "_view_count": null,
            "_view_module": "@jupyter-widgets/base",
            "_view_module_version": "1.2.0",
            "_view_name": "StyleView",
            "bar_color": "black",
            "description_width": ""
          }
        }
      }
    }
  },
  "cells": [
    {
      "cell_type": "markdown",
      "metadata": {
        "id": "view-in-github",
        "colab_type": "text"
      },
      "source": [
        "<a href=\"https://colab.research.google.com/github/fernandoespinosa/3253-machine-learning-team-project/blob/main/db_connect_query.ipynb\" target=\"_parent\"><img src=\"https://colab.research.google.com/assets/colab-badge.svg\" alt=\"Open In Colab\"/></a>"
      ]
    },
    {
      "cell_type": "code",
      "source": [
        "import duckdb\n",
        "\n",
        "conn = duckdb.connect()\n",
        "conn.install_extension('httpfs')\n",
        "conn.load_extension('httpfs')"
      ],
      "metadata": {
        "id": "m-xDssXQ4gPe"
      },
      "execution_count": 1,
      "outputs": []
    },
    {
      "cell_type": "code",
      "source": [
        "s3_uri = 's3://3253-machine-learning/layline-insidertrading.db'\n",
        "https_url = 'https://3253-machine-learning.s3.ca-central-1.amazonaws.com/layline-insidertrading.db'\n",
        "\n",
        "conn.execute(f\"ATTACH '{s3_uri}' AS lit_db (READ_ONLY);\")"
      ],
      "metadata": {
        "colab": {
          "base_uri": "https://localhost:8080/",
          "height": 66,
          "referenced_widgets": [
            "37a8e7f238634ede9abe99d448204d69",
            "8d8848f41fc14d76aca2b2b4cf8f50cf",
            "d1c5f86f031c4042a091dc8fc480c861"
          ]
        },
        "id": "VXncMZa64G6A",
        "outputId": "789e0ab3-6d8b-4362-c61b-ebafb3201c34"
      },
      "execution_count": 2,
      "outputs": [
        {
          "output_type": "display_data",
          "data": {
            "text/plain": [
              "FloatProgress(value=0.0, layout=Layout(width='auto'), style=ProgressStyle(bar_color='black'))"
            ],
            "application/vnd.jupyter.widget-view+json": {
              "version_major": 2,
              "version_minor": 0,
              "model_id": "37a8e7f238634ede9abe99d448204d69"
            }
          },
          "metadata": {}
        },
        {
          "output_type": "execute_result",
          "data": {
            "text/plain": [
              "<duckdb.duckdb.DuckDBPyConnection at 0x780881fd4170>"
            ]
          },
          "metadata": {},
          "execution_count": 2
        }
      ]
    },
    {
      "cell_type": "code",
      "source": [
        "conn.sql(\"USE lit_db;\")\n",
        "conn.sql(\"SHOW TABLES;\")"
      ],
      "metadata": {
        "colab": {
          "base_uri": "https://localhost:8080/"
        },
        "id": "afUe_mLp6rW0",
        "outputId": "1af0a4a9-e06a-41cc-a72a-e67b4f7770ca"
      },
      "execution_count": 3,
      "outputs": [
        {
          "output_type": "execute_result",
          "data": {
            "text/plain": [
              "┌────────────────────┐\n",
              "│        name        │\n",
              "│      varchar       │\n",
              "├────────────────────┤\n",
              "│ lit_deriv          │\n",
              "│ lit_footnotes      │\n",
              "│ lit_header         │\n",
              "│ lit_nonderiv       │\n",
              "│ lit_panel          │\n",
              "│ lit_reportingowner │\n",
              "│ lit_signatures     │\n",
              "│ lit_submission     │\n",
              "└────────────────────┘"
            ]
          },
          "metadata": {},
          "execution_count": 3
        }
      ]
    },
    {
      "cell_type": "code",
      "source": [
        "conn.sql(\"DESCRIBE lit_deriv;\")"
      ],
      "metadata": {
        "colab": {
          "base_uri": "https://localhost:8080/"
        },
        "id": "LuGFx2wh7OQ9",
        "outputId": "ed0e134f-6886-4178-b5a4-0d5ef91b55d5"
      },
      "execution_count": 4,
      "outputs": [
        {
          "output_type": "execute_result",
          "data": {
            "text/plain": [
              "┌─────────────────────────────────┬─────────────┬─────────┬─────────┬─────────┬─────────┐\n",
              "│           column_name           │ column_type │  null   │   key   │ default │  extra  │\n",
              "│             varchar             │   varchar   │ varchar │ varchar │ varchar │ varchar │\n",
              "├─────────────────────────────────┼─────────────┼─────────┼─────────┼─────────┼─────────┤\n",
              "│ URL                             │ VARCHAR     │ YES     │ NULL    │ NULL    │ NULL    │\n",
              "│ accessionNumber                 │ VARCHAR     │ YES     │ NULL    │ NULL    │ NULL    │\n",
              "│ filingDate                      │ BIGINT      │ YES     │ NULL    │ NULL    │ NULL    │\n",
              "│ filerCik                        │ VARCHAR     │ YES     │ NULL    │ NULL    │ NULL    │\n",
              "│ transactionType                 │ VARCHAR     │ YES     │ NULL    │ NULL    │ NULL    │\n",
              "│ tableRow                        │ BIGINT      │ YES     │ NULL    │ NULL    │ NULL    │\n",
              "│ securityTitle                   │ VARCHAR     │ YES     │ NULL    │ NULL    │ NULL    │\n",
              "│ securityTitleFn                 │ VARCHAR     │ YES     │ NULL    │ NULL    │ NULL    │\n",
              "│ conversionOrExercisePrice       │ VARCHAR     │ YES     │ NULL    │ NULL    │ NULL    │\n",
              "│ conversionOrExercisePriceFn     │ VARCHAR     │ YES     │ NULL    │ NULL    │ NULL    │\n",
              "│            ·                    │    ·        │  ·      │  ·      │  ·      │  ·      │\n",
              "│            ·                    │    ·        │  ·      │  ·      │  ·      │  ·      │\n",
              "│            ·                    │    ·        │  ·      │  ·      │  ·      │  ·      │\n",
              "│ underlyingSecurityValue         │ VARCHAR     │ YES     │ NULL    │ NULL    │ NULL    │\n",
              "│ underlyingSecurityValueFn       │ VARCHAR     │ YES     │ NULL    │ NULL    │ NULL    │\n",
              "│ sharesOwnedFollowingTransaction │ VARCHAR     │ YES     │ NULL    │ NULL    │ NULL    │\n",
              "│ sharesOwnedFolwngTransactionFn  │ VARCHAR     │ YES     │ NULL    │ NULL    │ NULL    │\n",
              "│ valueOwnedFollowingTransaction  │ VARCHAR     │ YES     │ NULL    │ NULL    │ NULL    │\n",
              "│ valueOwnedFolwngTransactionFn   │ VARCHAR     │ YES     │ NULL    │ NULL    │ NULL    │\n",
              "│ directOrIndirectOwnership       │ VARCHAR     │ YES     │ NULL    │ NULL    │ NULL    │\n",
              "│ directOrIndirectOwnershipFn     │ VARCHAR     │ YES     │ NULL    │ NULL    │ NULL    │\n",
              "│ natureOfOwnership               │ VARCHAR     │ YES     │ NULL    │ NULL    │ NULL    │\n",
              "│ natureOfOwnershipFn             │ VARCHAR     │ YES     │ NULL    │ NULL    │ NULL    │\n",
              "├─────────────────────────────────┴─────────────┴─────────┴─────────┴─────────┴─────────┤\n",
              "│ 46 rows (20 shown)                                                          6 columns │\n",
              "└───────────────────────────────────────────────────────────────────────────────────────┘"
            ]
          },
          "metadata": {},
          "execution_count": 4
        }
      ]
    },
    {
      "cell_type": "code",
      "source": [
        "conn.sql(\"DESCRIBE lit_footnotes;\")\n"
      ],
      "metadata": {
        "colab": {
          "base_uri": "https://localhost:8080/"
        },
        "id": "qitqsGcBDI6m",
        "outputId": "b5c3b27c-357a-46eb-9eb5-2770b603f523"
      },
      "execution_count": 5,
      "outputs": [
        {
          "output_type": "execute_result",
          "data": {
            "text/plain": [
              "┌─────────────────┬─────────────┬─────────┬─────────┬─────────┬─────────┐\n",
              "│   column_name   │ column_type │  null   │   key   │ default │  extra  │\n",
              "│     varchar     │   varchar   │ varchar │ varchar │ varchar │ varchar │\n",
              "├─────────────────┼─────────────┼─────────┼─────────┼─────────┼─────────┤\n",
              "│ URL             │ VARCHAR     │ YES     │ NULL    │ NULL    │ NULL    │\n",
              "│ accessionNumber │ VARCHAR     │ YES     │ NULL    │ NULL    │ NULL    │\n",
              "│ filingDate      │ BIGINT      │ YES     │ NULL    │ NULL    │ NULL    │\n",
              "│ filerCik        │ VARCHAR     │ YES     │ NULL    │ NULL    │ NULL    │\n",
              "│ id              │ VARCHAR     │ YES     │ NULL    │ NULL    │ NULL    │\n",
              "│ content         │ VARCHAR     │ YES     │ NULL    │ NULL    │ NULL    │\n",
              "└─────────────────┴─────────────┴─────────┴─────────┴─────────┴─────────┘"
            ]
          },
          "metadata": {},
          "execution_count": 5
        }
      ]
    },
    {
      "cell_type": "code",
      "source": [
        "conn.sql(\"DESCRIBE lit_header;\")\n"
      ],
      "metadata": {
        "colab": {
          "base_uri": "https://localhost:8080/"
        },
        "id": "nNZchDi-DKSn",
        "outputId": "ebfdfeb6-95ee-430a-f1ac-da5acd36fa0a"
      },
      "execution_count": 6,
      "outputs": [
        {
          "output_type": "execute_result",
          "data": {
            "text/plain": [
              "┌────────────────────────┬─────────────┬─────────┬─────────┬─────────┬─────────┐\n",
              "│      column_name       │ column_type │  null   │   key   │ default │  extra  │\n",
              "│        varchar         │   varchar   │ varchar │ varchar │ varchar │ varchar │\n",
              "├────────────────────────┼─────────────┼─────────┼─────────┼─────────┼─────────┤\n",
              "│ URL                    │ VARCHAR     │ YES     │ NULL    │ NULL    │ NULL    │\n",
              "│ acceptanceDatetime     │ BIGINT      │ YES     │ NULL    │ NULL    │ NULL    │\n",
              "│ accessionNumber        │ VARCHAR     │ YES     │ NULL    │ NULL    │ NULL    │\n",
              "│ type                   │ VARCHAR     │ YES     │ NULL    │ NULL    │ NULL    │\n",
              "│ publicDocumentCount    │ BIGINT      │ YES     │ NULL    │ NULL    │ NULL    │\n",
              "│ period                 │ BIGINT      │ YES     │ NULL    │ NULL    │ NULL    │\n",
              "│ filingDate             │ BIGINT      │ YES     │ NULL    │ NULL    │ NULL    │\n",
              "│ dateOfFilingDateChange │ BIGINT      │ YES     │ NULL    │ NULL    │ NULL    │\n",
              "│ sros                   │ VARCHAR     │ YES     │ NULL    │ NULL    │ NULL    │\n",
              "│ companyName            │ VARCHAR     │ YES     │ NULL    │ NULL    │ NULL    │\n",
              "│      ·                 │    ·        │  ·      │  ·      │  ·      │  ·      │\n",
              "│      ·                 │    ·        │  ·      │  ·      │  ·      │  ·      │\n",
              "│      ·                 │    ·        │  ·      │  ·      │  ·      │  ·      │\n",
              "│ subjectBusinessState   │ VARCHAR     │ YES     │ NULL    │ NULL    │ NULL    │\n",
              "│ subjectBusinessZip     │ VARCHAR     │ YES     │ NULL    │ NULL    │ NULL    │\n",
              "│ subjectBusinessPhone   │ VARCHAR     │ YES     │ NULL    │ NULL    │ NULL    │\n",
              "│ subjectMailingStreet1  │ VARCHAR     │ YES     │ NULL    │ NULL    │ NULL    │\n",
              "│ subjectMailingStreet2  │ VARCHAR     │ YES     │ NULL    │ NULL    │ NULL    │\n",
              "│ subjectMailingCity     │ VARCHAR     │ YES     │ NULL    │ NULL    │ NULL    │\n",
              "│ subjectMailingState    │ VARCHAR     │ YES     │ NULL    │ NULL    │ NULL    │\n",
              "│ subjectMailingZip      │ VARCHAR     │ YES     │ NULL    │ NULL    │ NULL    │\n",
              "│ subjectFormerName      │ VARCHAR     │ YES     │ NULL    │ NULL    │ NULL    │\n",
              "│ subjectFormerDate      │ VARCHAR     │ YES     │ NULL    │ NULL    │ NULL    │\n",
              "├────────────────────────┴─────────────┴─────────┴─────────┴─────────┴─────────┤\n",
              "│ 77 rows (20 shown)                                                 6 columns │\n",
              "└──────────────────────────────────────────────────────────────────────────────┘"
            ]
          },
          "metadata": {},
          "execution_count": 6
        }
      ]
    },
    {
      "cell_type": "code",
      "source": [
        "conn.sql(\"DESCRIBE lit_nonderiv;\")\n"
      ],
      "metadata": {
        "colab": {
          "base_uri": "https://localhost:8080/"
        },
        "id": "AVjBhUZqDL3I",
        "outputId": "97224d88-8a8c-4c4e-a56f-0a6d16a7f5ff"
      },
      "execution_count": 7,
      "outputs": [
        {
          "output_type": "execute_result",
          "data": {
            "text/plain": [
              "┌─────────────────────────────────┬─────────────┬─────────┬─────────┬─────────┬─────────┐\n",
              "│           column_name           │ column_type │  null   │   key   │ default │  extra  │\n",
              "│             varchar             │   varchar   │ varchar │ varchar │ varchar │ varchar │\n",
              "├─────────────────────────────────┼─────────────┼─────────┼─────────┼─────────┼─────────┤\n",
              "│ URL                             │ VARCHAR     │ YES     │ NULL    │ NULL    │ NULL    │\n",
              "│ accessionNumber                 │ VARCHAR     │ YES     │ NULL    │ NULL    │ NULL    │\n",
              "│ filingDate                      │ BIGINT      │ YES     │ NULL    │ NULL    │ NULL    │\n",
              "│ filerCik                        │ VARCHAR     │ YES     │ NULL    │ NULL    │ NULL    │\n",
              "│ transactionType                 │ VARCHAR     │ YES     │ NULL    │ NULL    │ NULL    │\n",
              "│ tableRow                        │ BIGINT      │ YES     │ NULL    │ NULL    │ NULL    │\n",
              "│ securityTitle                   │ VARCHAR     │ YES     │ NULL    │ NULL    │ NULL    │\n",
              "│ securityTitleFn                 │ VARCHAR     │ YES     │ NULL    │ NULL    │ NULL    │\n",
              "│ transactionDate                 │ VARCHAR     │ YES     │ NULL    │ NULL    │ NULL    │\n",
              "│ transactionDateFn               │ VARCHAR     │ YES     │ NULL    │ NULL    │ NULL    │\n",
              "│         ·                       │    ·        │  ·      │  ·      │  ·      │  ·      │\n",
              "│         ·                       │    ·        │  ·      │  ·      │  ·      │  ·      │\n",
              "│         ·                       │    ·        │  ·      │  ·      │  ·      │  ·      │\n",
              "│ transactionAcquiredDisposedCode │ VARCHAR     │ YES     │ NULL    │ NULL    │ NULL    │\n",
              "│ transactionAcquiredDisposedCdFn │ VARCHAR     │ YES     │ NULL    │ NULL    │ NULL    │\n",
              "│ sharesOwnedFollowingTransaction │ VARCHAR     │ YES     │ NULL    │ NULL    │ NULL    │\n",
              "│ sharesOwnedFolwngTransactionFn  │ VARCHAR     │ YES     │ NULL    │ NULL    │ NULL    │\n",
              "│ valueOwnedFollowingTransaction  │ DOUBLE      │ YES     │ NULL    │ NULL    │ NULL    │\n",
              "│ valueOwnedFolwngTransactionFn   │ VARCHAR     │ YES     │ NULL    │ NULL    │ NULL    │\n",
              "│ directOrIndirectOwnership       │ VARCHAR     │ YES     │ NULL    │ NULL    │ NULL    │\n",
              "│ directOrIndirectOwnershipFn     │ VARCHAR     │ YES     │ NULL    │ NULL    │ NULL    │\n",
              "│ natureOfOwnership               │ VARCHAR     │ YES     │ NULL    │ NULL    │ NULL    │\n",
              "│ natureOfOwnershipFn             │ VARCHAR     │ YES     │ NULL    │ NULL    │ NULL    │\n",
              "├─────────────────────────────────┴─────────────┴─────────┴─────────┴─────────┴─────────┤\n",
              "│ 32 rows (20 shown)                                                          6 columns │\n",
              "└───────────────────────────────────────────────────────────────────────────────────────┘"
            ]
          },
          "metadata": {},
          "execution_count": 7
        }
      ]
    },
    {
      "cell_type": "code",
      "source": [
        "conn.sql(\"DESCRIBE lit_panel;\")\n"
      ],
      "metadata": {
        "colab": {
          "base_uri": "https://localhost:8080/"
        },
        "id": "EwX1cnAVDNUn",
        "outputId": "88e8d160-eb42-4f53-acde-7eb242f5dccc"
      },
      "execution_count": 8,
      "outputs": [
        {
          "output_type": "execute_result",
          "data": {
            "text/plain": [
              "┌────────────────────────────┬─────────────┬─────────┬─────────┬─────────┬─────────┐\n",
              "│        column_name         │ column_type │  null   │   key   │ default │  extra  │\n",
              "│          varchar           │   varchar   │ varchar │ varchar │ varchar │ varchar │\n",
              "├────────────────────────────┼─────────────┼─────────┼─────────┼─────────┼─────────┤\n",
              "│ URL                        │ VARCHAR     │ YES     │ NULL    │ NULL    │ NULL    │\n",
              "│ acceptanceDatetime         │ BIGINT      │ YES     │ NULL    │ NULL    │ NULL    │\n",
              "│ accessionNumber            │ VARCHAR     │ YES     │ NULL    │ NULL    │ NULL    │\n",
              "│ type                       │ VARCHAR     │ YES     │ NULL    │ NULL    │ NULL    │\n",
              "│ period                     │ BIGINT      │ YES     │ NULL    │ NULL    │ NULL    │\n",
              "│ filingDate                 │ BIGINT      │ YES     │ NULL    │ NULL    │ NULL    │\n",
              "│ dateOfFilingDateChange     │ BIGINT      │ YES     │ NULL    │ NULL    │ NULL    │\n",
              "│ issuerCIK                  │ VARCHAR     │ YES     │ NULL    │ NULL    │ NULL    │\n",
              "│ documentType               │ VARCHAR     │ YES     │ NULL    │ NULL    │ NULL    │\n",
              "│ periodOfReport             │ VARCHAR     │ YES     │ NULL    │ NULL    │ NULL    │\n",
              "│      ·                     │    ·        │  ·      │  ·      │  ·      │  ·      │\n",
              "│      ·                     │    ·        │  ·      │  ·      │  ·      │  ·      │\n",
              "│      ·                     │    ·        │  ·      │  ·      │  ·      │  ·      │\n",
              "│ exerciseDate               │ VARCHAR     │ YES     │ NULL    │ NULL    │ NULL    │\n",
              "│ exerciseDateFn             │ VARCHAR     │ YES     │ NULL    │ NULL    │ NULL    │\n",
              "│ expirationDate             │ VARCHAR     │ YES     │ NULL    │ NULL    │ NULL    │\n",
              "│ expirationDateFn           │ VARCHAR     │ YES     │ NULL    │ NULL    │ NULL    │\n",
              "│ underlyingSecurityTitle    │ VARCHAR     │ YES     │ NULL    │ NULL    │ NULL    │\n",
              "│ underlyingSecurityTitleFn  │ VARCHAR     │ YES     │ NULL    │ NULL    │ NULL    │\n",
              "│ underlyingSecurityShares   │ VARCHAR     │ YES     │ NULL    │ NULL    │ NULL    │\n",
              "│ underlyingSecuritySharesFn │ VARCHAR     │ YES     │ NULL    │ NULL    │ NULL    │\n",
              "│ underlyingSecurityValue    │ VARCHAR     │ YES     │ NULL    │ NULL    │ NULL    │\n",
              "│ underlyingSecurityValueFn  │ VARCHAR     │ YES     │ NULL    │ NULL    │ NULL    │\n",
              "├────────────────────────────┴─────────────┴─────────┴─────────┴─────────┴─────────┤\n",
              "│ 59 rows (20 shown)                                                     6 columns │\n",
              "└──────────────────────────────────────────────────────────────────────────────────┘"
            ]
          },
          "metadata": {},
          "execution_count": 8
        }
      ]
    },
    {
      "cell_type": "code",
      "source": [
        "conn.sql(\"DESCRIBE lit_reportingowner;\")\n"
      ],
      "metadata": {
        "colab": {
          "base_uri": "https://localhost:8080/"
        },
        "id": "kTejTeHHDOUT",
        "outputId": "add677f3-0dfd-47ee-cecf-c5901eaf8be1"
      },
      "execution_count": 9,
      "outputs": [
        {
          "output_type": "execute_result",
          "data": {
            "text/plain": [
              "┌──────────────────────────┬─────────────┬─────────┬─────────┬─────────┬─────────┐\n",
              "│       column_name        │ column_type │  null   │   key   │ default │  extra  │\n",
              "│         varchar          │   varchar   │ varchar │ varchar │ varchar │ varchar │\n",
              "├──────────────────────────┼─────────────┼─────────┼─────────┼─────────┼─────────┤\n",
              "│ URL                      │ VARCHAR     │ YES     │ NULL    │ NULL    │ NULL    │\n",
              "│ accessionNumber          │ VARCHAR     │ YES     │ NULL    │ NULL    │ NULL    │\n",
              "│ filingDate               │ BIGINT      │ YES     │ NULL    │ NULL    │ NULL    │\n",
              "│ filerCik                 │ VARCHAR     │ YES     │ NULL    │ NULL    │ NULL    │\n",
              "│ rptOwnerCik              │ VARCHAR     │ YES     │ NULL    │ NULL    │ NULL    │\n",
              "│ rptOwnerName             │ VARCHAR     │ YES     │ NULL    │ NULL    │ NULL    │\n",
              "│ rptOwnerStreet1          │ VARCHAR     │ YES     │ NULL    │ NULL    │ NULL    │\n",
              "│ rptOwnerStreet2          │ VARCHAR     │ YES     │ NULL    │ NULL    │ NULL    │\n",
              "│ rptOwnerCity             │ VARCHAR     │ YES     │ NULL    │ NULL    │ NULL    │\n",
              "│ rptOwnerState            │ VARCHAR     │ YES     │ NULL    │ NULL    │ NULL    │\n",
              "│ rptOwnerZipCode          │ VARCHAR     │ YES     │ NULL    │ NULL    │ NULL    │\n",
              "│ rptOwnerStateDescription │ VARCHAR     │ YES     │ NULL    │ NULL    │ NULL    │\n",
              "│ isDirector               │ VARCHAR     │ YES     │ NULL    │ NULL    │ NULL    │\n",
              "│ isOfficer                │ VARCHAR     │ YES     │ NULL    │ NULL    │ NULL    │\n",
              "│ isTenPercentOwner        │ VARCHAR     │ YES     │ NULL    │ NULL    │ NULL    │\n",
              "│ isOther                  │ VARCHAR     │ YES     │ NULL    │ NULL    │ NULL    │\n",
              "│ officerTitle             │ VARCHAR     │ YES     │ NULL    │ NULL    │ NULL    │\n",
              "│ otherText                │ VARCHAR     │ YES     │ NULL    │ NULL    │ NULL    │\n",
              "├──────────────────────────┴─────────────┴─────────┴─────────┴─────────┴─────────┤\n",
              "│ 18 rows                                                              6 columns │\n",
              "└────────────────────────────────────────────────────────────────────────────────┘"
            ]
          },
          "metadata": {},
          "execution_count": 9
        }
      ]
    },
    {
      "cell_type": "code",
      "source": [
        "conn.sql(\"DESCRIBE lit_signatures;\")\n"
      ],
      "metadata": {
        "colab": {
          "base_uri": "https://localhost:8080/"
        },
        "id": "d7Xvz40qDQYm",
        "outputId": "9dd891c9-40b8-423c-8144-40448b0f1f5c"
      },
      "execution_count": 10,
      "outputs": [
        {
          "output_type": "execute_result",
          "data": {
            "text/plain": [
              "┌─────────────────┬─────────────┬─────────┬─────────┬─────────┬─────────┐\n",
              "│   column_name   │ column_type │  null   │   key   │ default │  extra  │\n",
              "│     varchar     │   varchar   │ varchar │ varchar │ varchar │ varchar │\n",
              "├─────────────────┼─────────────┼─────────┼─────────┼─────────┼─────────┤\n",
              "│ URL             │ VARCHAR     │ YES     │ NULL    │ NULL    │ NULL    │\n",
              "│ accessionNumber │ VARCHAR     │ YES     │ NULL    │ NULL    │ NULL    │\n",
              "│ filingDate      │ BIGINT      │ YES     │ NULL    │ NULL    │ NULL    │\n",
              "│ filerCik        │ VARCHAR     │ YES     │ NULL    │ NULL    │ NULL    │\n",
              "│ signatureName   │ VARCHAR     │ YES     │ NULL    │ NULL    │ NULL    │\n",
              "│ signatureDate   │ VARCHAR     │ YES     │ NULL    │ NULL    │ NULL    │\n",
              "└─────────────────┴─────────────┴─────────┴─────────┴─────────┴─────────┘"
            ]
          },
          "metadata": {},
          "execution_count": 10
        }
      ]
    },
    {
      "cell_type": "code",
      "source": [
        "conn.sql(\"DESCRIBE lit_submission;\")"
      ],
      "metadata": {
        "colab": {
          "base_uri": "https://localhost:8080/"
        },
        "id": "DWCKPH1sDRgB",
        "outputId": "a419e322-85e6-420f-d832-d26395d7df6f"
      },
      "execution_count": 11,
      "outputs": [
        {
          "output_type": "execute_result",
          "data": {
            "text/plain": [
              "┌──────────────────────────┬─────────────┬─────────┬─────────┬─────────┬─────────┐\n",
              "│       column_name        │ column_type │  null   │   key   │ default │  extra  │\n",
              "│         varchar          │   varchar   │ varchar │ varchar │ varchar │ varchar │\n",
              "├──────────────────────────┼─────────────┼─────────┼─────────┼─────────┼─────────┤\n",
              "│ URL                      │ VARCHAR     │ YES     │ NULL    │ NULL    │ NULL    │\n",
              "│ acceptanceDatetime       │ BIGINT      │ YES     │ NULL    │ NULL    │ NULL    │\n",
              "│ accessionNumber          │ VARCHAR     │ YES     │ NULL    │ NULL    │ NULL    │\n",
              "│ filerCik                 │ VARCHAR     │ YES     │ NULL    │ NULL    │ NULL    │\n",
              "│ type                     │ VARCHAR     │ YES     │ NULL    │ NULL    │ NULL    │\n",
              "│ publicDocumentCount      │ BIGINT      │ YES     │ NULL    │ NULL    │ NULL    │\n",
              "│ period                   │ BIGINT      │ YES     │ NULL    │ NULL    │ NULL    │\n",
              "│ filingDate               │ BIGINT      │ YES     │ NULL    │ NULL    │ NULL    │\n",
              "│ dateOfFilingDateChange   │ BIGINT      │ YES     │ NULL    │ NULL    │ NULL    │\n",
              "│ ownerName                │ VARCHAR     │ YES     │ NULL    │ NULL    │ NULL    │\n",
              "│     ·                    │    ·        │  ·      │  ·      │  ·      │  ·      │\n",
              "│     ·                    │    ·        │  ·      │  ·      │  ·      │  ·      │\n",
              "│     ·                    │    ·        │  ·      │  ·      │  ·      │  ·      │\n",
              "│ issuerFormerDate         │ VARCHAR     │ YES     │ NULL    │ NULL    │ NULL    │\n",
              "│ schemaVersion            │ VARCHAR     │ YES     │ NULL    │ NULL    │ NULL    │\n",
              "│ documentType             │ VARCHAR     │ YES     │ NULL    │ NULL    │ NULL    │\n",
              "│ periodOfReport           │ VARCHAR     │ YES     │ NULL    │ NULL    │ NULL    │\n",
              "│ dateOfOriginalSubmission │ VARCHAR     │ YES     │ NULL    │ NULL    │ NULL    │\n",
              "│ notSubjectToSection16    │ VARCHAR     │ YES     │ NULL    │ NULL    │ NULL    │\n",
              "│ issuerCik_1              │ VARCHAR     │ YES     │ NULL    │ NULL    │ NULL    │\n",
              "│ issuerName               │ VARCHAR     │ YES     │ NULL    │ NULL    │ NULL    │\n",
              "│ issuerTradingSymbol      │ VARCHAR     │ YES     │ NULL    │ NULL    │ NULL    │\n",
              "│ remarks                  │ VARCHAR     │ YES     │ NULL    │ NULL    │ NULL    │\n",
              "├──────────────────────────┴─────────────┴─────────┴─────────┴─────────┴─────────┤\n",
              "│ 57 rows (20 shown)                                                   6 columns │\n",
              "└────────────────────────────────────────────────────────────────────────────────┘"
            ]
          },
          "metadata": {},
          "execution_count": 11
        }
      ]
    }
  ]
}